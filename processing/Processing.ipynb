{
 "cells": [
  {
   "cell_type": "code",
   "execution_count": 43,
   "id": "41282899-ef3c-40ba-bbf7-3f4b97040646",
   "metadata": {},
   "outputs": [],
   "source": [
    "import numpy as np\n",
    "import pandas as pd\n",
    "import seaborn as sns\n",
    "from collections import defaultdict\n",
    "from unidecode import unidecode\n",
    "import matplotlib.pyplot as plt\n",
    "plt.rcParams['svg.fonttype'] = 'none'"
   ]
  },
  {
   "cell_type": "code",
   "execution_count": 44,
   "id": "bf19ea86-da38-433d-85d5-101f0ddb455d",
   "metadata": {},
   "outputs": [],
   "source": [
    "d = pd.read_csv('./barcode_results.tsv', sep=\"\\t\")\n",
    "m = pd.read_csv('./sample_metadata.csv')\n",
    "barcodes = [b for b in d.columns if b not in ['Sample','Dummy',]]\n",
    "m['Strain_library'] = m['Library'].astype(str) + m['Strain_name']"
   ]
  },
  {
   "cell_type": "code",
   "execution_count": 45,
   "id": "af0b3dad-5a67-4b4f-8c96-275385864215",
   "metadata": {},
   "outputs": [
    {
     "name": "stdout",
     "output_type": "stream",
     "text": [
      "2.142857142857143\n"
     ]
    }
   ],
   "source": [
    "negs = d[d.Sample.isin(m[m.Strain_name.str.contains(\"negative\")]['Sample'])].set_index(\"Sample\") +1 \n",
    "max_dummy_ratio_in_negs = negs.div(negs.Dummy, axis=0).max().max()\n",
    "print(max_dummy_ratio_in_negs)"
   ]
  },
  {
   "cell_type": "code",
   "execution_count": 46,
   "id": "ba687267-7ef2-47c5-af48-d09ca79a18c7",
   "metadata": {},
   "outputs": [
    {
     "name": "stdout",
     "output_type": "stream",
     "text": [
      "0.31\n",
      "0.59\n",
      "0.85\n",
      "0.85\n"
     ]
    }
   ],
   "source": [
    "zscores = defaultdict(list)\n",
    "\n",
    "for index, row in d.iterrows():\n",
    "\n",
    "    \n",
    "    sample_data =row[barcodes + [\"Dummy\"]] + 1\n",
    "    sample_sum = sample_data.sum()\n",
    "    \n",
    "    for barcode in barcodes:\n",
    "        zscores['Sample'].append(row['Sample'])\n",
    "        zscores['Barcode'].append(barcode)\n",
    "        zscores['count'].append(row[barcode])\n",
    "        zscores['ratio_to_dummy'].append(row[barcode] / (1+row['Dummy']))\n",
    "        \n",
    "zscores = pd.DataFrame(zscores)\n",
    "\n",
    "final_ratios = zscores.pivot(index='Sample',columns='Barcode',values='ratio_to_dummy')\n",
    "\n",
    "print(round((final_ratios ==  0).sum().sum() / (final_ratios.shape[0]*final_ratios.shape[1]),2))\n",
    "\n",
    "final_ratios[final_pvalue > 0.01] = 0 # P value cutoff\n",
    "print(round((final_ratios ==  0).sum().sum() / (final_ratios.shape[0]*final_ratios.shape[1]),2))\n",
    "\n",
    "final_ratios[final_zscore < 0] = 0 # Only positive with respect to dummy\n",
    "print(round((final_ratios ==  0).sum().sum() / (final_ratios.shape[0]*final_ratios.shape[1]),2))\n",
    "\n",
    "# final_ratios[final_ratios < max_dummy_ratio_in_negs*5] = 0 # Minimum ratio\n",
    "print(round((final_ratios ==  0).sum().sum() / (final_ratios.shape[0]*final_ratios.shape[1]),2))\n",
    "\n",
    "final_ratios = round(final_ratios,1)\n",
    "\n",
    "final = final_ratios.melt(ignore_index=False).reset_index()\n",
    "final = final[~final.Sample.isin(negs.index)]"
   ]
  },
  {
   "cell_type": "code",
   "execution_count": 110,
   "id": "567c5ca3-d703-4d0b-9b67-a1bd10269bf3",
   "metadata": {},
   "outputs": [],
   "source": [
    "plasmid_meta = pd.read_csv('./plasmid_metadata.csv')\n",
    "pgl0 = {}\n",
    "pgl2 = {}\n",
    "for index, row in plasmid_meta.iterrows():\n",
    "    pgl0[row['ORI']] = row['pGL0']\n",
    "    ori_lib = row['ORI'] + \"-\" + str(row['Library'])\n",
    "    pgl2[ori_lib] = row['pGL2']"
   ]
  },
  {
   "cell_type": "code",
   "execution_count": 111,
   "id": "d128f6ec-6c76-496f-9efe-99ca51f56f15",
   "metadata": {},
   "outputs": [],
   "source": [
    "strain_meta = pd.read_csv('./strain_metadata.csv')\n",
    "strain = {}\n",
    "library = {}\n",
    "for index, row in strain_meta.iterrows():\n",
    "    strain[row['Sample']] = row['CVM']\n",
    "    library[row['Sample']] = row['Library']"
   ]
  },
  {
   "cell_type": "markdown",
   "id": "e2870dab-3843-442c-b866-dcf50420d175",
   "metadata": {},
   "source": [
    "# Library 150"
   ]
  },
  {
   "cell_type": "code",
   "execution_count": 112,
   "id": "86d029db-93ae-4359-be0b-e64e7ed4a07a",
   "metadata": {},
   "outputs": [],
   "source": [
    "output_table = defaultdict(list)\n",
    "\n",
    "for index, row in final.iterrows():\n",
    "    ## get CVM\n",
    "    if row['Sample'] in strain:\n",
    "        if library[row['Sample']] == 150:\n",
    "            cvm = strain[row['Sample']]\n",
    "            p0 = pgl0[row['Barcode']]\n",
    "            p2 = pgl2[row['Barcode'] + \"-\" + str(library[row['Sample']])]\n",
    "            ## get pGL0\n",
    "            output_table['Strain'].append(cvm)\n",
    "            output_table['ORI (pGL0)'].append(p0)\n",
    "            output_table['Plasmid (pGL2)'].append(p2)\n",
    "            output_table['Fold enrichment'].append(row['value'])\n",
    "    ## get pGL2\n",
    "output_table = pd.DataFrame(output_table)\n",
    "output_table.to_csv(\"ingest_for_portal150.csv\")"
   ]
  },
  {
   "cell_type": "markdown",
   "id": "3718aa82-817d-407b-a371-6b7a58a25ad5",
   "metadata": {},
   "source": [
    "# Library 147"
   ]
  },
  {
   "cell_type": "code",
   "execution_count": 87,
   "id": "db9bfc43-fe58-467f-a88c-503e5dfab32c",
   "metadata": {},
   "outputs": [],
   "source": [
    "output_table = defaultdict(list)\n",
    "\n",
    "for index, row in final.iterrows():\n",
    "    ## get CVM\n",
    "    if row['Sample'] in strain:\n",
    "        if library[row['Sample']] == 147:\n",
    "            cvm = strain[row['Sample']]\n",
    "            p0 = pgl0[row['Barcode']]\n",
    "            p2 = pgl2[row['Barcode'] + \"-\" + str(library[row['Sample']])]\n",
    "            ## get pGL0\n",
    "            output_table['Strain'].append(cvm)\n",
    "            output_table['ORI (pGL0)'].append(p0)\n",
    "            output_table['Plasmid (pGL2)'].append(p2)\n",
    "            output_table['Fold enrichment'].append(row['value'])\n",
    "    ## get pGL2\n",
    "output_table = pd.DataFrame(output_table)\n",
    "output_table.to_csv(\"ingest_for_portal147.csv\")"
   ]
  },
  {
   "cell_type": "code",
   "execution_count": 113,
   "id": "552dc3c3-09ca-4e81-854a-e6d887d0f70c",
   "metadata": {},
   "outputs": [],
   "source": [
    "output_table.head(output_table.shape[0] - 250).to_csv(\"ingest_for_portal150_1.csv\")"
   ]
  },
  {
   "cell_type": "code",
   "execution_count": 114,
   "id": "635a3b3b-16ea-44f2-8394-fb52afba88d1",
   "metadata": {},
   "outputs": [],
   "source": [
    "output_table.tail(250).to_csv(\"ingest_for_portal150_2.csv\")"
   ]
  },
  {
   "cell_type": "code",
   "execution_count": 100,
   "id": "4ef94b4f-4e50-45fb-8ea4-614fe0eeaf16",
   "metadata": {},
   "outputs": [
    {
     "data": {
      "text/html": [
       "<div>\n",
       "<style scoped>\n",
       "    .dataframe tbody tr th:only-of-type {\n",
       "        vertical-align: middle;\n",
       "    }\n",
       "\n",
       "    .dataframe tbody tr th {\n",
       "        vertical-align: top;\n",
       "    }\n",
       "\n",
       "    .dataframe thead th {\n",
       "        text-align: right;\n",
       "    }\n",
       "</style>\n",
       "<table border=\"1\" class=\"dataframe\">\n",
       "  <thead>\n",
       "    <tr style=\"text-align: right;\">\n",
       "      <th></th>\n",
       "      <th>Strain</th>\n",
       "      <th>ORI (pGL0)</th>\n",
       "      <th>Plasmid (pGL2)</th>\n",
       "      <th>Fold enrichment</th>\n",
       "    </tr>\n",
       "  </thead>\n",
       "  <tbody>\n",
       "    <tr>\n",
       "      <th>0</th>\n",
       "      <td>CVM007</td>\n",
       "      <td>pGL0_16 [2μ]</td>\n",
       "      <td>pGL2_209</td>\n",
       "      <td>0.0</td>\n",
       "    </tr>\n",
       "    <tr>\n",
       "      <th>1</th>\n",
       "      <td>CVM007</td>\n",
       "      <td>pGL0_16 [2μ]</td>\n",
       "      <td>pGL2_209</td>\n",
       "      <td>0.0</td>\n",
       "    </tr>\n",
       "    <tr>\n",
       "      <th>2</th>\n",
       "      <td>CVM007</td>\n",
       "      <td>pGL0_16 [2μ]</td>\n",
       "      <td>pGL2_209</td>\n",
       "      <td>0.0</td>\n",
       "    </tr>\n",
       "    <tr>\n",
       "      <th>3</th>\n",
       "      <td>CVM010</td>\n",
       "      <td>pGL0_16 [2μ]</td>\n",
       "      <td>pGL2_209</td>\n",
       "      <td>0.0</td>\n",
       "    </tr>\n",
       "    <tr>\n",
       "      <th>4</th>\n",
       "      <td>CVM010</td>\n",
       "      <td>pGL0_16 [2μ]</td>\n",
       "      <td>pGL2_209</td>\n",
       "      <td>0.0</td>\n",
       "    </tr>\n",
       "    <tr>\n",
       "      <th>...</th>\n",
       "      <td>...</td>\n",
       "      <td>...</td>\n",
       "      <td>...</td>\n",
       "      <td>...</td>\n",
       "    </tr>\n",
       "    <tr>\n",
       "      <th>523</th>\n",
       "      <td>CVM027</td>\n",
       "      <td>pGL0_20 [panARS-opt]</td>\n",
       "      <td>pGL2_208</td>\n",
       "      <td>0.0</td>\n",
       "    </tr>\n",
       "    <tr>\n",
       "      <th>524</th>\n",
       "      <td>CVM027</td>\n",
       "      <td>pGL0_20 [panARS-opt]</td>\n",
       "      <td>pGL2_208</td>\n",
       "      <td>0.0</td>\n",
       "    </tr>\n",
       "    <tr>\n",
       "      <th>525</th>\n",
       "      <td>CVM036</td>\n",
       "      <td>pGL0_20 [panARS-opt]</td>\n",
       "      <td>pGL2_208</td>\n",
       "      <td>0.0</td>\n",
       "    </tr>\n",
       "    <tr>\n",
       "      <th>526</th>\n",
       "      <td>CVM036</td>\n",
       "      <td>pGL0_20 [panARS-opt]</td>\n",
       "      <td>pGL2_208</td>\n",
       "      <td>0.0</td>\n",
       "    </tr>\n",
       "    <tr>\n",
       "      <th>527</th>\n",
       "      <td>CVM036</td>\n",
       "      <td>pGL0_20 [panARS-opt]</td>\n",
       "      <td>pGL2_208</td>\n",
       "      <td>0.0</td>\n",
       "    </tr>\n",
       "  </tbody>\n",
       "</table>\n",
       "<p>528 rows × 4 columns</p>\n",
       "</div>"
      ],
      "text/plain": [
       "     Strain            ORI (pGL0) Plasmid (pGL2)  Fold enrichment\n",
       "0    CVM007          pGL0_16 [2μ]       pGL2_209              0.0\n",
       "1    CVM007          pGL0_16 [2μ]       pGL2_209              0.0\n",
       "2    CVM007          pGL0_16 [2μ]       pGL2_209              0.0\n",
       "3    CVM010          pGL0_16 [2μ]       pGL2_209              0.0\n",
       "4    CVM010          pGL0_16 [2μ]       pGL2_209              0.0\n",
       "..      ...                   ...            ...              ...\n",
       "523  CVM027  pGL0_20 [panARS-opt]       pGL2_208              0.0\n",
       "524  CVM027  pGL0_20 [panARS-opt]       pGL2_208              0.0\n",
       "525  CVM036  pGL0_20 [panARS-opt]       pGL2_208              0.0\n",
       "526  CVM036  pGL0_20 [panARS-opt]       pGL2_208              0.0\n",
       "527  CVM036  pGL0_20 [panARS-opt]       pGL2_208              0.0\n",
       "\n",
       "[528 rows x 4 columns]"
      ]
     },
     "execution_count": 100,
     "metadata": {},
     "output_type": "execute_result"
    }
   ],
   "source": [
    "output_table"
   ]
  },
  {
   "cell_type": "code",
   "execution_count": 97,
   "id": "cb8a6d20-5fd6-4f34-96be-30f9e53a59b3",
   "metadata": {},
   "outputs": [
    {
     "data": {
      "text/plain": [
       "528"
      ]
     },
     "execution_count": 97,
     "metadata": {},
     "output_type": "execute_result"
    }
   ],
   "source": [
    "250+278"
   ]
  },
  {
   "cell_type": "code",
   "execution_count": null,
   "id": "12b6a65a-b2aa-4a85-ab48-ae6185d87734",
   "metadata": {},
   "outputs": [],
   "source": []
  }
 ],
 "metadata": {
  "kernelspec": {
   "display_name": "Python 3 (ipykernel)",
   "language": "python",
   "name": "python3"
  },
  "language_info": {
   "codemirror_mode": {
    "name": "ipython",
    "version": 3
   },
   "file_extension": ".py",
   "mimetype": "text/x-python",
   "name": "python",
   "nbconvert_exporter": "python",
   "pygments_lexer": "ipython3",
   "version": "3.10.6"
  }
 },
 "nbformat": 4,
 "nbformat_minor": 5
}
